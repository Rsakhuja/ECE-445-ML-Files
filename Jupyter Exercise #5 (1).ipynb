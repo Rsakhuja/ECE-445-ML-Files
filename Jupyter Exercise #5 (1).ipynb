{
 "cells": [
  {
   "cell_type": "code",
   "execution_count": 27,
   "metadata": {},
   "outputs": [],
   "source": [
    "import pandas as pd\n",
    "import numpy as np\n",
    "import random as rd\n",
    "import matplotlib.pyplot as plt\n",
    "import math as math\n",
    "from mpl_toolkits.mplot3d import Axes3D\n",
    "from sklearn.datasets import load_wine\n",
    "import collections \n",
    "from random import randrange\n",
    "samples,labels = load_wine(return_X_y = True)"
   ]
  },
  {
   "cell_type": "markdown",
   "metadata": {},
   "source": [
    "## Standardization of Data"
   ]
  },
  {
   "cell_type": "code",
   "execution_count": 5,
   "metadata": {},
   "outputs": [],
   "source": [
    "#1. Centered Data\n",
    "mean_vec = samples.mean(axis=1)\n",
    "mean_vec = np.tile(mean_vec.reshape(samples.shape[0],1),[1,samples.shape[1]])\n",
    "samples_centered = samples-mean_vec"
   ]
  },
  {
   "cell_type": "code",
   "execution_count": 7,
   "metadata": {},
   "outputs": [
    {
     "data": {
      "text/plain": [
       "Text(0.5,1,'2D Features of Centralized Principal Components')"
      ]
     },
     "execution_count": 7,
     "metadata": {},
     "output_type": "execute_result"
    },
    {
     "data": {
      "image/png": "[encoded data removed]",
      "text/plain": [
       "<Figure size 432x288 with 1 Axes>"
      ]
     },
     "metadata": {},
     "output_type": "display_data"
    }
   ],
   "source": [
    "#2. Two-Dimensional PCA \n",
    "\n",
    "#Singular Value Decomposition\n",
    "u_centered,s_centered,v_centered = np.linalg.svd(samples_centered,True)\n",
    "features_centered = u_centered[:,0:2]\n",
    "pca_centered = features_centered.T\n",
    "\n",
    "#Labels Scatter Plot\n",
    "plt.scatter(pca_centered.T[np.where(labels==0),0],pca_centered.T[np.where(labels==0),1],c='r',marker='s')\n",
    "plt.scatter(pca_centered.T[np.where(labels==1),0],pca_centered.T[np.where(labels==1),1],c='g',marker='^')\n",
    "plt.scatter(pca_centered.T[np.where(labels==2),0],pca_centered.T[np.where(labels==2),1],c='b',marker='o')\n",
    "\n",
    "plt.title('2D Features of Centralized Principal Components')"
   ]
  },
  {
   "cell_type": "code",
   "execution_count": 8,
   "metadata": {},
   "outputs": [],
   "source": [
    "#3. Normalized Data\n",
    "maximum = np.max(samples_centered)\n",
    "minimum = np.min(samples_centered)\n",
    "norm = np.subtract(samples_centered,minimum)\n",
    "diff = np.subtract(maximum,minimum)\n",
    "samples_normalized = np.divide(norm,diff)"
   ]
  },
  {
   "cell_type": "code",
   "execution_count": 9,
   "metadata": {},
   "outputs": [
    {
     "data": {
      "text/plain": [
       "Text(0.5,1,'2D Features')"
      ]
     },
     "execution_count": 9,
     "metadata": {},
     "output_type": "execute_result"
    },
    {
     "data": {
      "image/png": "[encoded data removed]",
      "text/plain": [
       "<Figure size 432x288 with 1 Axes>"
      ]
     },
     "metadata": {},
     "output_type": "display_data"
    }
   ],
   "source": [
    "#4. Two Dimensional PCA\n",
    "\n",
    "#Singular Value Decomposition\n",
    "u_normalized,s_normalized,v_normalized = np.linalg.svd(samples_normalized,True)\n",
    "features_normalized = u_normalized[:,0:2]\n",
    "pca_normalized = features_normalized.T\n",
    "\n",
    "plt.scatter(pca_normalized.T[np.where(labels==0),0],pca_normalized.T[np.where(labels==0),1],c='r',marker='s')\n",
    "plt.scatter(pca_normalized.T[np.where(labels==1),0],pca_normalized.T[np.where(labels==1),1],c='g',marker='^')\n",
    "plt.scatter(pca_normalized.T[np.where(labels==2),0],pca_normalized.T[np.where(labels==2),1],c='b',marker='o')\n",
    "plt.title('2D Features')"
   ]
  },
  {
   "cell_type": "markdown",
   "metadata": {},
   "source": [
    "5. The centered and normalized data seems to have better PCA performance. "
   ]
  },
  {
   "cell_type": "markdown",
   "metadata": {},
   "source": [
    " ## Naive Bayes Classification"
   ]
  },
  {
   "cell_type": "code",
   "execution_count": 42,
   "metadata": {},
   "outputs": [
    {
     "name": "stdout",
     "output_type": "stream",
     "text": [
      "Counter({1: 0.398876404494382, 0: 0.33146067415730335, 2: 0.2696629213483146})\n"
     ]
    }
   ],
   "source": [
    "#function to calculate prior probability of data points\n",
    "def PriorProbability(labels):\n",
    "    prior = collections.Counter(labels)\n",
    "    for key in prior.keys():\n",
    "        prior[key] = prior[key]/len(labels)\n",
    "    return prior\n",
    "\n",
    "print(PriorProbability(labels))"
   ]
  },
  {
   "cell_type": "code",
   "execution_count": 90,
   "metadata": {},
   "outputs": [
    {
     "data": {
      "text/plain": [
       "{0: 0.33146067415730335, 1: 0.398876404494382, 2: 0.2696629213483146}"
      ]
     },
     "execution_count": 90,
     "metadata": {},
     "output_type": "execute_result"
    }
   ],
   "source": [
    "def naiveBayes(labels,training,test):\n",
    "    categories     = np.unique(labels)\n",
    "    probabilities = {}\n",
    "    \n",
    "    for ctg in categories:\n",
    "        probabilities[ctg] = collections.defaultdict(list)\n",
    "\n",
    "    labelProbabilities = PriorProbability(labels)\n",
    "    \n",
    "    results = {}\n",
    "    for ctg in categories:\n",
    "        label_probability = labelProbabilities[ctg]\n",
    "        for i in range(0,len(test)):\n",
    "            relative_values = probabilities[ctg][i]\n",
    "            if test[i] in relative_values:\n",
    "                    label_probability = label_probability * relative_values[test[i]]\n",
    "            results[ctg] = label_probability\n",
    "    return(results)\n",
    "\n",
    "\n",
    "#training = pca_centered.T\n",
    "#new_sample = np.asarray([ -0.07495661 -0.07357057])\n",
    "#naiveBayes(labels, training, new_sample)\n",
    "\n",
    "    "
   ]
  },
  {
   "cell_type": "code",
   "execution_count": 129,
   "metadata": {},
   "outputs": [],
   "source": [
    "#Split data into k folds\n",
    "def k_fold_CV(samples,folds):\n",
    "    split = list()\n",
    "    samples_split = list(dataset)\n",
    "    fold_size = int(len(dataset)/folds)\n",
    "    for i in range(folds):\n",
    "        fold = list()\n",
    "        while(len(fold) < fold_size):\n",
    "            index = randrange(len(samples_split))\n",
    "            fold.append(samples_split.pop(index))\n",
    "        split.append(fold)\n",
    "        return split"
   ]
  },
  {
   "cell_type": "code",
   "execution_count": 130,
   "metadata": {},
   "outputs": [
    {
     "name": "stdout",
     "output_type": "stream",
     "text": [
      "Centered Data Mean/Standard Deviation:\n",
      "-0.04446652753291019\n",
      "0.0608650140079587\n",
      "Normalized Data Mean/Standard Deviation:\n",
      "-0.04275886264766747\n",
      "0.06368062869613834\n"
     ]
    }
   ],
   "source": [
    "#k fold on centered data only\n",
    "training1 = k_fold_cross_validation_split(pca_centered.T,5)\n",
    "mean1 = np.mean(training1)\n",
    "std1 = np.std(training1)\n",
    "print(\"Centered Data Mean/Standard Deviation:\")\n",
    "print(mean1)\n",
    "print(std1)\n",
    "\n",
    "#k fold on standardized data\n",
    "training2 = k_fold_cross_validation_split(pca_normalized.T,5)\n",
    "mean2 = np.mean(training2)\n",
    "std2 = np.std(training2)\n",
    "print(\"Normalized Data Mean/Standard Deviation:\")\n",
    "print(mean2)\n",
    "print(std2)"
   ]
  },
  {
   "cell_type": "code",
   "execution_count": 131,
   "metadata": {},
   "outputs": [
    {
     "name": "stdout",
     "output_type": "stream",
     "text": [
      "(SKlearn Normalized Data Mean/Standard Deviation:\n",
      "0.9438202247191011\n",
      "0.7983065019474881\n"
     ]
    }
   ],
   "source": [
    "from sklearn.naive_bayes import GaussianNB\n",
    "clf = GaussianNB()\n",
    "clf.fit(pca_normalized.T,labels)\n",
    "training3 = clf.predict(pca_normalized.T)\n",
    "mean3 = np.mean(training3)\n",
    "std3 = np.std(training3)\n",
    "print(\"(SKlearn Normalized Data Mean/Standard Deviation:\")\n",
    "print(mean3)\n",
    "print(std3)"
   ]
  },
  {
   "cell_type": "markdown",
   "metadata": {},
   "source": [
    "Out of the three cases, case 3 seems to have the most accurate mean/standard deviation. "
   ]
  }
 ],
 "metadata": {
  "kernelspec": {
   "display_name": "Python 3",
   "language": "python",
   "name": "python3"
  },
  "language_info": {
   "codemirror_mode": {
    "name": "ipython",
    "version": 3
   },
   "file_extension": ".py",
   "mimetype": "text/x-python",
   "name": "python",
   "nbconvert_exporter": "python",
   "pygments_lexer": "ipython3",
   "version": "3.6.5"
  }
 },
 "nbformat": 4,
 "nbformat_minor": 2
}
