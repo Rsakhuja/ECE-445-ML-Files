{
 "cells": [
  {
   "cell_type": "code",
   "execution_count": 14,
   "metadata": {},
   "outputs": [],
   "source": [
    "import numpy as np\n",
    "from random import randrange\n",
    "from sklearn.datasets import load_boston \n",
    "import matplotlib.pyplot as plt"
   ]
  },
  {
   "cell_type": "code",
   "execution_count": 15,
   "metadata": {},
   "outputs": [],
   "source": [
    "boston,values = load_boston(return_X_y=True)\n",
    "#Augmented Matrix\n",
    "augmented = np.ones((506,14))\n",
    "for i in range(0,506):\n",
    "    for j in range(0,13):\n",
    "        augmented[i,j] = boston[i,j]\n",
    "\n",
    "trainData = augmented\n",
    "trainLabels = values"
   ]
  },
  {
   "cell_type": "code",
   "execution_count": 29,
   "metadata": {},
   "outputs": [
    {
     "name": "stdout",
     "output_type": "stream",
     "text": [
      "(14,)\n"
     ]
    }
   ],
   "source": [
    "#Calculate w for training set- LS Regression\n",
    "def LSRegression(trainData,trainLabels):\n",
    "    leastSquares = ((np.linalg.inv(trainData.T@trainData)@trainData.T)@trainLabels)\n",
    "    y_hat = trainData@leastSquares\n",
    "    return leastSquares\n",
    "print(LSRegression(trainData,values).data.shape)"
   ]
  },
  {
   "cell_type": "code",
   "execution_count": 30,
   "metadata": {},
   "outputs": [
    {
     "name": "stdout",
     "output_type": "stream",
     "text": [
      "105.26289129674272\n"
     ]
    }
   ],
   "source": [
    "#Compute Least Squares Error\n",
    "def LSError(actual,predicted):\n",
    "    error = np.linalg.norm(actual-predicted,2)\n",
    "    return error\n",
    "pred = trainData@LSRegression(trainData,trainLabels)\n",
    "print(LSError(trainLabels,pred))"
   ]
  },
  {
   "cell_type": "code",
   "execution_count": 37,
   "metadata": {},
   "outputs": [
    {
     "data": {
      "text/plain": [
       "58.69047395217554"
      ]
     },
     "execution_count": 37,
     "metadata": {},
     "output_type": "execute_result"
    },
    {
     "data": {
      "image/png": "[encoded data removed]",
      "text/plain": [
       "<Figure size 432x288 with 1 Axes>"
      ]
     },
     "metadata": {},
     "output_type": "display_data"
    }
   ],
   "source": [
    "def LeastSquares_CV(trainData,trainLabels,folds):\n",
    "    #Split training data and training labels\n",
    "    splitData = np.array_split(trainData,folds)\n",
    "    splitLabels = np.array_split(trainLabels,folds)\n",
    "    predError = 0\n",
    "    #Cross Validation\n",
    "    for i in range(folds):\n",
    "        dataset = list()\n",
    "        dataLabels = list()\n",
    "        #Test Set\n",
    "        testData = splitData[i]\n",
    "        testLabels = splitLabels[i]\n",
    "        for j in range(folds):\n",
    "            if(i==j):\n",
    "                continue\n",
    "            dataset.extend(splitData[j])\n",
    "            dataLabels.extend(splitLabels[j])\n",
    "        dataset = np.asarray(dataset)\n",
    "        dataLabels = np.asarray(dataLabels)\n",
    "        \n",
    "        #Compute w_hat and y_hat for test set\n",
    "        w_hat = LSRegression(dataset,dataLabels)\n",
    "        predicted = testData@w_hat\n",
    "        error = LSError(testLabels, predicted)\n",
    "        \n",
    "        #Avg Error\n",
    "        predError = predError + error\n",
    "        plt.plot(testLabels,predicted,'ro')\n",
    "        plt.xlabel('Actual')\n",
    "        plt.ylabel('Predicted')\n",
    "    \n",
    "        #Line with slope=1\n",
    "        x = np.linspace(0,50,100)\n",
    "        y = x\n",
    "        plt.plot(x,y)\n",
    "        avgError = predError/folds\n",
    "    return avgError\n",
    "\n",
    "LeastSquares_CV(trainData,trainLabels,5)"
   ]
  },
  {
   "cell_type": "code",
   "execution_count": 60,
   "metadata": {},
   "outputs": [],
   "source": [
    "#Calculate w for training set- Ridge Regression\n",
    "def RidgeRegression(trainData,trainLabels,regParam):\n",
    "    ridgeA = np.linalg.inv(trainData.T@trainData)\n",
    "    identity = np.identity(len(ridgeA))\n",
    "    ridge = np.linalg.inv(trainData.T@trainData + (regParam*identity))@trainData.T@trainLabels\n",
    "    return ridge"
   ]
  },
  {
   "cell_type": "code",
   "execution_count": 57,
   "metadata": {},
   "outputs": [],
   "source": [
    "#Compute Ridge Regression Error\n",
    "def RidgeError(actual,predicted):\n",
    "    error = np.linalg.norm(actual-predicted,2)\n",
    "    return error"
   ]
  },
  {
   "cell_type": "code",
   "execution_count": 58,
   "metadata": {},
   "outputs": [
    {
     "data": {
      "text/plain": [
       "54.972314406156976"
      ]
     },
     "execution_count": 58,
     "metadata": {},
     "output_type": "execute_result"
    }
   ],
   "source": [
    "def RR_CV(trainData,trainLabels,folds,regParam):\n",
    "    #Split training data and training labels\n",
    "    splitData = np.array_split(trainData,folds)\n",
    "    splitLabels = np.array_split(trainLabels,folds)\n",
    "    predError = 0\n",
    "    #Cross Validation\n",
    "    for i in range(folds):\n",
    "        dataset = list()\n",
    "        dataLabels = list()\n",
    "        #Test Set\n",
    "        testData = splitData[i]\n",
    "        testLabels = splitLabels[i]\n",
    "        for j in range(folds):\n",
    "            if(i==j):\n",
    "                continue\n",
    "            dataset.extend(splitData[j])\n",
    "            dataLabels.extend(splitLabels[j])\n",
    "        dataset = np.asarray(dataset)\n",
    "        dataLabels = np.asarray(dataLabels)\n",
    "        \n",
    "        #Compute w_hat and y_hat for test set\n",
    "        w_hat = RidgeRegression(dataset,dataLabels,regParam)\n",
    "        predicted = testData@w_hat\n",
    "        error = RidgeError(testLabels, predicted)\n",
    "        \n",
    "        #Avg Error\n",
    "        predError = predError + error\n",
    "        avgError = predError/folds\n",
    "    return avgError\n",
    "\n",
    "RR_CV(trainData,trainLabels,5,1)"
   ]
  },
  {
   "cell_type": "code",
   "execution_count": 59,
   "metadata": {},
   "outputs": [
    {
     "data": {
      "text/plain": [
       "69.17482125163659"
      ]
     },
     "execution_count": 59,
     "metadata": {},
     "output_type": "execute_result"
    }
   ],
   "source": [
    "def computeParam(trainLabels_split,trainData_split,regParamStart,regParamEnd,folds):\n",
    "    predError = list()\n",
    "    regParamRange = regParamEnd - regParamStart\n",
    "    for i in range(int(regParamStart),regParamEnd):\n",
    "        error = RR_CV(trainLabels_split,trainData_split,folds,i)\n",
    "        predError.append(error)\n",
    "    avgError = sum(predError)/int(regParamRange)\n",
    "    return avgError\n",
    "computeParam(trainData,trainLabels,.5,5,5)    "
   ]
  }
 ],
 "metadata": {
  "kernelspec": {
   "display_name": "Python 3",
   "language": "python",
   "name": "python3"
  },
  "language_info": {
   "codemirror_mode": {
    "name": "ipython",
    "version": 3
   },
   "file_extension": ".py",
   "mimetype": "text/x-python",
   "name": "python",
   "nbconvert_exporter": "python",
   "pygments_lexer": "ipython3",
   "version": "3.6.5"
  },
  "widgets": {
   "application/vnd.jupyter.widget-state+json": {
    "state": {},
    "version_major": 2,
    "version_minor": 0
   }
  }
 },
 "nbformat": 4,
 "nbformat_minor": 2
}
