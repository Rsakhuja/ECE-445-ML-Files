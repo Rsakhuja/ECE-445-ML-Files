{
 "cells": [
  {
   "cell_type": "code",
   "execution_count": 2,
   "metadata": {},
   "outputs": [],
   "source": [
    "import pandas as pd\n",
    "import numpy as np\n",
    "import random as rd\n",
    "import matplotlib.pyplot as plt\n",
    "import math as math\n",
    "from mpl_toolkits.mplot3d import Axes3D\n",
    "from sklearn.datasets import load_wine\n",
    "import collections \n",
    "from random import randrange\n",
    "samples,labels = load_wine(return_X_y = True)"
   ]
  },
  {
   "cell_type": "markdown",
   "metadata": {},
   "source": [
    "## Standardization of Data"
   ]
  },
  {
   "cell_type": "code",
   "execution_count": 3,
   "metadata": {},
   "outputs": [],
   "source": [
    "#1. Centered Data\n",
    "mean_vec = samples.mean(axis=1)\n",
    "mean_vec = np.tile(mean_vec.reshape(samples.shape[0],1),[1,samples.shape[1]])\n",
    "samples_centered = samples-mean_vec"
   ]
  },
  {
   "cell_type": "code",
   "execution_count": 4,
   "metadata": {},
   "outputs": [
    {
     "data": {
      "text/plain": [
       "Text(0.5,1,'2D Features of Centralized Principal Components')"
      ]
     },
     "execution_count": 4,
     "metadata": {},
     "output_type": "execute_result"
    },
    {
     "data": {
      "image/png": "iVBORw0KGgoAAAANSUhEUgAAAYwAAAEICAYAAABMGMOEAAAABHNCSVQICAgIfAhkiAAAAAlwSFlzAAALEgAACxIB0t1+/AAAADl0RVh0U29mdHdhcmUAbWF0cGxvdGxpYiB2ZXJzaW9uIDIuMi4yLCBodHRwOi8vbWF0cGxvdGxpYi5vcmcvhp/UCwAAIABJREFUeJzt3XmYXGWZ9/Hv3Z0FQkJIQsuSrRFQFmWRFsd5deA1sipEARFoEVBAQGbU6IxRRJA2DioiOMMWJIAkgCwqUUQkUcDlHYdmi4QYCSFLkwZDEpJAgE667/ePc6r7dPWpqlNb19K/T666UnXWp6qrzn2e3dwdERGRXBoqnQAREakNChgiIpKIAoaIiCSigCEiIokoYIiISCIKGCIikogChpSFmZ1vZi+b2WtmNqHS6cmXmV1qZnPD51PC99FY4nOsMLMPl+hYXzezH5fgOK+Z2dtLcJzez0/qx5APGGY20sxuMrOVZrbZzJ40s2Mi6w83s57wh/SamXWY2V1m9t4sx2w2M4/s85qZPV2CtNbEj9DMhgNXAke6+2h3XxezzYjw/TxnZq+HF885ZtZcgvM/bGZnF3ucFHdfFb6P7lIdMxczu8XMusLvznoze8jM9smSxu+4e9HvOXyfy4s9Ti5mtqOZXWVmq8L3uCx8vXO5z10NzOxMM/tjpdORryEfMIBhwGrgMGAscDFwV9qFa427jwbGAP8E/A34g5lNy3HsncIf4Gh3P7DkKc+TmQ0bpFPtAmwHLM6yzT3A8cBpBJ/7gcDjQK7PtGiD+DkU63vh924S8A/glriNauj9AMHNArAQ2B84GtgR+GdgHXBoBZMmubi7HmkPYBFwYvj8cKAjZpv/Btoz7N8MODAsw/rPAEuADcCDwNTIuqsJAtgmggvoB8PlRwNdwFbgNeDpcPkK4MOR/S8F5qal47PAKuDRcPk/AX8GXgWeBg6P7H8msBzYDLwAtGZ4DyOBq4A14eOqcNk7gNfD874G/C5m3w8DbwCTs/wNxgI3AZ3Ai8C3gcZIGv8IXBF+hi8Ax4TrZgHdwJvh+f87XO7A54HngBeyfdZZPsdhwPvD46YebwIrwu0agJnA8wQXv7uA8ZFjng6sDNddlP63S3v/twDfjrz+CPBaJG33AHPDtJ+dIb1nhH/3V4CLIsdqBL4epnNz+N4nRz6nvSJpuB54KNzuERJ8V9M/v5j3djbwMjA6y99/X+Bhgu/oYuD4tM/mWuCB8G/wJ2BXgu/gBoIbuoMj268AvgY8G66/Gdgusv4cYBmwHpgP7B5Z58B5BN+bDcA1gCX8LcfuG763Nwm+p68Br4bbHxumcTPBd/4rlb4WDvi7VDoB1fYguDt+E9gnfH048QHjQ0APsEPMutQPdkDAAD4Wfjn3JbgAfQP4c2T9p4AJ4bovAy+lvtxxP0KSBYyfADsA2wMTCS5YxxJc4I4IXzeF22wC3hnuvxuwf4bP6TLgf4C3hfv+GWjL9f7D9ZcDj+T4O/wCuCFM09uA/wU+F647kyBwnkNw8TufIGhZuP5h4Oy04znBhW88sH0+n3Wm9wMMD8/1n+HrL4afySSC4HkDcEe4bj+Ci8O/hOuuBLaRIGAAo4HbgT9E0raV4LvUEP5d49J7Y7juQOAtYN9w/b8DfwXeSXABOxCYEPmcogFjcyTNVwN/LPS7GtnvTuDWLH/74QS/ka8DIwh+a5vp+17eQhAEDyHIyf6O4Kbh0+H34dvA79N+I88Ak8O//58in+2HwmO9J3yP/0V4YxX5PH4F7ARMAdYCRyf8LWfb98zoZxku66TvBnEc8J5KXw8H/G0qnYBqeoRf1AXADZFlhxMfMPYJvxATY9alfrCvRh5fCdc9AHw2sm0DsIXInUnasTYAB4bPB/wISRYw3h5Z/1XgtrRjPEhwN7pDmNYTCS+qWT6r54FjI6+Pou9OO3XeTAHjRuDOLMfeheACt31k2ampi0D4Y1sWWTcqPN+u4euHiQ8YH8rxnmI/60zvB7gOuB9oCF8vAaZF1u9GcGEfBnwz+p7Dz7qL7AHjzfDv8RLBne+ekbQ9mrZ9XHonRdb/L3BK+HwpMD3DedMDRjTNownuimNzhpk+v5jtHgIuz/J3+GD4nhsiy+4ALo2k68bIun8FlkRev5vwrj3yGzkv8vpY4Pnw+U0ERX/R97gVaI58Hh+IrL8LmJnkt5xj3zMZGDBWAZ8Ddsz2Pa3kQ3UYITNrAG4j+BFfmGCXifQFhUx2dvedwscV4bKpwNVm9qqZvUqQDbbweJjZl81siZltDNePBYqtCFwdeT4V+ETq/OE5PgDs5u6vA58kyEZ3mtn9WSpadycoXklZGS5LYh3BxTSTqQTBuzOSxhsIchopL6WeuPuW8OnoHOeNfg5FfdZm9jmCm4nT3L0nku6fR9K8hOACuwvBZ9N7/vCzHtAYIM0V4XdnV3c/3t2fz/ReMngp8nwLfZ/PZIKAn0Q0za8RfF93h6I+v1x//92B1ZHPFYLv18TI65cjz9+IeZ3+XYh+XtHvar/vcfge16WdK9PnmPW3nGPfOCcSBLOVZvaImb0/y7YVoYABmJkR3GnsQlB3sTXBbh8Hngh/+PlYTVC0slPksb27/9nMPkiQAzgZGOfuOwEbCb6EEASodK8T3GGn7BqzTXS/1QQ5jOj5d3D3ywHc/UF3P4LgB/03gtxAnDUEP5iUKeGyJBYAh5rZpAzrVxPkMKIBd0d33z/h8eM+p37LE3zWGYX7thHcpW9MS/cxaZ/tdu7+IkFxw+TIMUYRFOcUKtN7TGI1sGfCbaNpHk1QpLOmmM+P4O9/lJntkGH9GmByeBOXMoWgXL9QkyPPo9/Vft/jME0TEp4r4285wb4D/n7u/pi7Tye4MfoFQY6kqihgBK4jKIc8zt3fyLSRBSaa2SUEFXdfL+Bc1wNfM7P9w2OONbNPhOvGEJRrrwWGmdk3CVqQpLwMNKf9kJ4CTjGz4WbWApyU4/xzgePM7CgzazSz7cKmw5PMbBczOz780bxFUOaeqSnpHcA3zKwpbAr5zfDYObn7AoJiiZ+b2SFmNszMxpjZeWb2GXfvBH4L/CBsftlgZnua2WFJjk/wOeXqS5Drs45lZpOBnwKfdve/p62+HphlZlPDbZvMbHq47h7go2b2gbCV0GVU7vf3Y6DNzPYOv9MHWOa+MsdG0twG/MXdV1Pg5xe6jeBie6+Z7RP+fSdY0JfkWOAvBDdC/xF+rw8HjiOo+yjU58Pv+HiC3+1Pw+W3A2eZ2UFmNhL4TvgeVyQ4Zrbfci4vA5PCzzXVzLzVzMaGN6ybyPzbq5ghHzDCH/fngIOAl6yv30RrZLPdzSzVKuYxgjLSw939t/mez91/DnwXuNPMNhFUxqX6fTxIUC76d4Js8pv0z0rfHf6/zsyeCJ9fTHC3uAH4FsEPINv5VwPTCX40a8Pj/zvBd6GBoPJyDUH2+jDgggyH+jbQTtCi7K/AE+GypE4Cfk3ww91I8Dm0ENx9QlCBOYK+li33kL0YI+pq4CQz22BmP8qwTa7POpNpBLm4eyLflVTz4asJ6hp+a2abCSrA3wfg7osJWmndTpDb2AB0JHw/pXYlwd3rbwkuTDcRVI7HuR24hOD7cAiQ+l0U+vnh7m8RtJT7G8GNwyaCOpadCS7WXQRNro8hqJC+liBA/y2fNxnzPn5L0AJwOeF31d0XEvyG7iX4u+wJnJLwfWT7LefyO4LWXy+Z2SvhstOBFeGxziNoVFBVUq1KRET6MbNbCBp8fKPSaSmGma0gaASxINe2kt2Qz2GIiEgyChgiIpKIiqRERCQR5TBERCSRmhq0LGXnnXf25ubmSidDRKSmPP7446+4e1Oh+9dkwGhubqa9vb3SyRARqSlmtjL3VpmpSEpERBJRwBARkURKEjDM7GgzW2rBrFkzY9bPMLNnzWyRmS1MDZ0QrjvDglnXnjOzM0qRHhERKb2iA4YF8xxfQ9Alfj/gVDPbL22zJ4EWdz+AYIiH74X7jicYduB9BDNtXWJm44pNk4iIlF4pchiHEsxNsDwcA+ZOgrGKern77yNDUKcmmIFgDoWH3H29u28gGFfm6BKkSURESqwUAWMi/Qcd66D/ePDpPkswaFkh+4qISIWUollt3Pj3sd3HzexTBCOSpoapzmffc4FzAaZMmZJ/KkVEpCilyGF00H9ykknETKRjZh8mmPj++HB448T7Arj7bHdvcfeWpqaC+52IiEiBShEwHgP2NrM9wslATiGYE6CXmR1MMMXm8e7+j8iqB4EjzWxcWNl9ZLhMRESqTNFFUu6+zcwuJLjQNwJz3H2xmV0GtLv7fOD7BHPZ3h3MhsqqcI7i9WbWRhB0AC5z9/XFpklEREqvJkerbWlpcQ0NIiKSHzN73N1bCt1fPb1FRCQRBQwREUlEAaMQO+4IZgMfO+5Y6ZSJiJSNAkYhNm/Ob7mISB1QwBARkUQUMEREJBEFDBERSUQBQ0REElHAKMSYMfktFxGpA6UYrXbo2bSp0ikQERl0ymGIiEgiChgiIpKIAoaIiCSigFHNNASJiFQRBYxqpiFIRKSKKGCIiEgiChgiIpKIAoaIiCSigCEiIokoYFQzDUEiIlWkJAHDzI42s6VmtszMZsas/xcze8LMtpnZSWnrus3sqfAxvxTpqRubNoH7wIeGJhGRCih6LCkzawSuAY4AOoDHzGy+uz8b2WwVcCbwlZhDvOHuBxWbDhERKa9SDD54KLDM3ZcDmNmdwHSgN2C4+4pwXU8JziciIhVQiiKpicDqyOuOcFlS25lZu5n9j5l9LNNGZnZuuF372rVrC01rfVFPcBEZRKUIGBazzPPYf4q7twCnAVeZ2Z5xG7n7bHdvcfeWpqamQtJZX3bcUT3BRWRQlSJgdACTI68nAWuS7uzua8L/lwMPAweXIE31T0FBRAZZKQLGY8DeZraHmY0ATgEStXYys3FmNjJ8vjPwf4jUfYiISPUoOmC4+zbgQuBBYAlwl7svNrPLzOx4ADN7r5l1AJ8AbjCzxeHu+wLtZvY08Hvg8rTWVSIiUiXMPZ/qhurQ0tLi7e3tlU5GZVlc1VFEDf5dRaS8zOzxsM64IOrpXY/UE1xEykABo1ZlGzak0j3B1dxXpC6VouOeVEKlg0I2au4rUpeUwxARkUQUMEREJBEFDBERSUQBQ0REElHAqEeVbqWkiZ9E6pJaSdWjSrdSquYWXCJSMOUwREQkEQWMoUYd6kSkQAoYog51IpKIAoYMrkpXyItIwRQw6lG1tkbSLIEiNU0Box5t2hQMb57+qLRcQUG5DJGqpoAh1WPzZhVRiVQxBYyhpJY61KmISqTqqOPeUKIOdSJSBOUwREQkEQUMGTzVWPQlIomVJGCY2dFmttTMlpnZzJj1/2JmT5jZNjM7KW3dGWb2XPg4oxTpkSqVar2lwCFSk4oOGGbWCFwDHAPsB5xqZvulbbYKOBO4PW3f8cAlwPuAQ4FLzGxcsWmSKpatL0aUgopI1SlFDuNQYJm7L3f3LuBOYHp0A3df4e6LgJ60fY8CHnL39e6+AXgIOLoEaZJqlS1YRPuMqIJepOqUImBMBFZHXneEy0q6r5mda2btZta+du3aghIqVS6fPhgaYkRk0JUiYFjMsqTdihPv6+6z3b3F3VuampoSJ05KZDAv0EmKrDTEiMigK0XA6AAmR15PAtYMwr4ymHSBFhnyShEwHgP2NrM9zGwEcAowP+G+DwJHmtm4sLL7yHCZSPFUbCVSUkUHDHffBlxIcKFfAtzl7ovN7DIzOx7AzN5rZh3AJ4AbzGxxuO96oI0g6DwGXBYuk3o1mK2flCsSKSnzahjFNE8tLS3e3t5e6WQMLRZX3RTK5zuUtFltrmMmSU+p0ixSJ8zscXdvKXR/9fSWwVWqPhi1NJCiSJ3Q4IOSzJgx8Rf7bBfopLmJlHzu+tVPQ2TQKWBIMoVcoFVXIFJXVCQl1UOtmUSqmgKGVK9icyiq5xApKRVJSW3LVE8yZozqOURKTAFDKiNawZ2t+Wsu6mshMmhUJCXloyIhkbqiHIaUj4qEROqKchhSecqJiNQE5TCk8pQTEakJymFIbVPuRGTQKIchtU25E5FBoxyGDG3FzJmh+TZkiFHAkMFRrRfXYvpxqA+IDDEKGDI4sl1cCw0e1RqEROqUAoZUj3zvzHWHLzKoFDBEMlFuRaQfBQyRbJRbEemlgCFDW779NaL1JqU6pkiNKEnAMLOjzWypmS0zs5kx60ea2U/D9X8xs+ZwebOZvWFmT4WP60uRHqlC1XoR3bQpv6lhc+U4NKy61LGiO+6ZWSNwDXAE0AE8Zmbz3f3ZyGafBTa4+15mdgrwXeCT4brn3f2gYtMhVS56Ec02h0U+CplnvNxUhCV1rBQ5jEOBZe6+3N27gDuB6WnbTAduDZ/fA0wzK2YSBKlpqbv69Ee+d+alOk4u0Sa7+W6vSnOpI6UIGBOB1ZHXHeGy2G3cfRuwEZgQrtvDzJ40s0fM7IOZTmJm55pZu5m1r127tgTJFokoV65EOQ6pI6UIGHG3XemFwpm26QSmuPvBwAzgdjOLvSVz99nu3uLuLU1NTUUlWGSATLkVEelVioDRAUyOvJ4ErMm0jZkNA8YC6939LXdfB+DujwPPA+8oQZpERKTEShEwHgP2NrM9zGwEcAowP22b+cAZ4fOTgN+5u5tZU1hpjpm9HdgbWF6CNImISIkV3UrK3beZ2YXAg0AjMMfdF5vZZUC7u88HbgJuM7NlwHqCoALwL8BlZrYN6AbOc/f1xaZJRERKz7wGy2lbWlq8vb290smQoSBTE+Ck1C9DqoiZPe7uLYXur57eIpB55NtiKVhIHVHAkKEj23DoGvlWJCcFDBk6Cg0KhfbRqNbhUEQKpIAhkksqoIwZ09c/I1MwiG6TKo7SRE9SJ4puJSUyZERzIvnUTai4S+qEchgiIpKIAoZUJxXjiFQdBQypTuUoxklSCV3KfkmpoCdSJxQwZOjId7KkYqmOQuqMAoYMPdlaOCVZX+50iFQptZKSoSdXC6fB6J1dg0PyiCiHISIiiShgSHUarGKhaqVWYlKFVCQl1akeBu0bMya+4jtJ0FNnP6lCymGI5FLo3X6maV/rIRjKkKSAIZKL7vZFAAUMkZo1bx40N0NDQ/D/vHmVTpHUO9VhiNSgefPg3HNhy5bg9cqVwWuA1tbKpUvqm3IYItUoRyuxiy7qCxYpW7YEy9XCSspFAUOkGuWoMF+1Kr7j36pVFFznUukirs7Nnez5oz156bWXBvfEklhJAoaZHW1mS81smZnNjFk/0sx+Gq7/i5k1R9Z9LVy+1MyOKkV6REqqCvuE7LDz+tjlU6YUdrxUEdfKlUFcShVxDWbQaHu0jRWvrqDtkbbBO6nkpeiAYWaNwDXAMcB+wKlmtl/aZp8FNrj7XsAPge+G++4HnALsDxwNXBseT6R6VKp5bIaipc7dRvPmYTNg+Ov9Nh81CmbNKuxUWYu4BkHn5k5ufupmeryHm5+6WbmMKlWKHMahwDJ3X+7uXcCdwPS0baYDt4bP7wGmmZmFy+9097fc/QVgWXg8EclQhNR2yOs0HHgnHHcOjF0J5kydCrNnF17hvWpVfstLre3RNnq8B4Bu71Yuo0qVImBMBFZHXneEy2K3cfdtwEZgQsJ9ATCzc82s3cza165dW4JkiyRQZRXInaPh5oOgq7sLDrgDvtTM9m078D/PvFRU66hMRVmFFnHlI5W76OruAoL3plxGdSpFwIibISa9Ri7TNkn2DRa6z3b3FndvaWpqyjOJIgWqsk57bYdBT9qvptu7mblgZl+FcQF1LrNmBUVaUUmLuIqtrI7mLlKUy6hOpQgYHcDkyOtJwJpM25jZMGAssD7hviISmv9O6ErrPdXV3cU9j93KinXLg4tsAXUura1BkdbUqUEGKp8irmIrq+cvnd+bu4i+p/uW3lfQ8aR8zIsclz8MAH8HpgEvAo8Bp7n74sg2nwfe7e7nmdkpwAnufrKZ7Q/cTlBvsTuwENjb3buznbOlpcXb29uLSrdIItmmWC3kt7PjjpkHJEy/oCec3rVzNLz9C/DmcNh+2PYs/8Jydh29a/5pK0Dn5k7e/qO38+a2Nwf93JI/M3vc3VsK3b/oHEZYJ3Eh8CCwBLjL3Reb2WVmdny42U3ABDNbBswAZob7LgbuAp4FfgN8PlewEKlp+RRxJWy2Gy2mGuyinFyV1epbUV9K0g/D3X/t7u9w9z3dfVa47JvuPj98/qa7f8Ld93L3Q919eWTfWeF+73T3B0qRHpG6kKloKaK3EjwspoqrMC5Xh7xrbtrAda1fpeviN+CHL9D15IkDzp20uEqBpTaop7dINlXYaS8qUyV46gJdrg558+bBFz8/CjZOBRpgYzP88ka6njqp99zRvhVznpxD81XNGQOCOu3VBgUMkWyqfE6LTJXgqQrjcnXIu+gi2PbWyP4Lt+5A90OXcd/S+5g3D96x5wje/Mbr8MMXePPJE1i5cWVsQFCnvdqh0WpFak1kJr+OK2PWR4qtStkhb968IFCsWpW5vt82NfPdXTo455we3nhjQrBwYzP8cjbgzBk2h4sPu7hfxXhcPcg1H7km/wRK2SmHITKYSlHElUfuplQd8tKLtrKd76KL4I030i4tW3eAhd+hq7uL0y99oLdOZdKUbdx4y+vqtFcjFDBEBtMgF3EV0yEvKq5oK51ZcNyMuZeNU+h5+pMs+NHJvYHnxdXD2HbftbDo1N7N1GmveilgiNSxYjrkRSUpwnIPjpsx9zJ2FSz8TpDbiApzHynqtFe9FDBEalGGIqx5I88a0IS2tRVWrICenuD/rMEiw9hZU8gdMaZODf6Py9Uw/HWY9nXYGB9NbFMzfon3PjpmdOQ8nww+BQyRWhRTtDVvrnNu45zimtBm6Fg4y2cODAIRqWKuVMX4li3QGE5UMHUqzL15B9bc8gMYuzp2/6R1KuqvUVkKGCJ1opxzWrRyR7+irQkTgke0mAv6KsYBurv7Aklra9AaqvGIi2Pn8Tj22GSdC9Vfo7KKHkuqEjSWlMhADQ3xLZjMguKoRAocO6tzcydTpvawbcPA2QmGjXuR9mdfoeVfr2TbQ98KiqWsB7yBSZN7OO6jw7j11v7BbtSogXUtGreqeBUfS0pEqkO55rSYx6k080LWu/+2R9vYtmG32P23bdiNj8ycF7SG2tgMNIAPg+FvsM/Jt/HrXyfLGWmSpcpTwBCpE6VqQhs1j1M5lxtZSXPGepFUT23GZqgYH7uKF39xQWzrqN/POSJR50JNslQdFDBE6kRvE1pbhdHDVFYwe8tptH4qj1kC01pfXcR32EL/C3363X/vnf+0rw+on8jVOqp7wyTGj49PSnS5JlmqDgoYInWktRVW+FR6aGQFe9DKHX0rk8wSmNb6apU1x26Wuvvvd+d/wB1w3DnY2FWYeTDf+HHnBMsz5T7CZDXEXIk2b+7LyWiSpeqgSm+RelPCSZ+am/taPUVNnRr06bjg/gu46cmb+l3MRzSOYO/xe/Pc+ufoevLEoFNebw4j/h61oSG+Yn7CBHjllbySHKtzcycfuPkD/Ozkn3HCXSfwp8/8aUhWmKvSW0TK5thjsy/PdOe/5JUlQbD45Y19Fd00APEBK1MrrnXrSjN/R6o5buvPWtUstwjKYYjUm0HMYWQzaco2XlydbEDsxsag30ac1Lmio+VOmdLXvyOXaHPclKHaLFc5DBEpm2KGR3+xozHROUaNgk+d9RqZch+rVsVPBHXOOT287dNfzNlSqu3RNrp7+kcjVZgXRgFDpN6ELZ16+0/QTTMvMG/kWXkfqtC+HZ2bO2HH3FFlwoSgZdeoj/0HbB9fWZEaMj29r8YbbzSwdv6Xsl74U5XyW3u29luuZrmFUcAQqTebNgXjSo26Peg/QQMraeb0rjlccEF+hyq0b0emYUDSjR4NHzo+7MdxzBdihw3JPmT6ZK5rv45FLy/KmI703EXKtp5tymXkqaiAYWbjzewhM3su/H9chu3OCLd5zszOiCx/2MyWmtlT4eNtxaRHRAJxd+TucP31kUrkDCPTRvtrpPp2jG5aB/QwumldouHR5//+errfdVvQrHbsCrIVN/X2sQib5Q4ft2bAUOzZhkx3nJPvPjk+HUvnD8hdpGzt2apmuXkqqtLbzL4HrHf3y81sJjDO3b+ats14oB1oIfjWPA4c4u4bzOxh4CvunlcNtiq9RbLLNK4URCqsE1aOFzSGkxkXfARuOjicc/yHL4StpfqbOHkb6z43pl+FNMDT5z3NAbsc0Ps6VYfRLwgOf72vn0fMPulpTzcUK74rXek9Hbg1fH4r8LGYbY4CHnL39e6+AXgIOLrI84rUnMEcmjtbHUO+83kXMoZT52i4+aAwWEDQ23vYwOKmfU7+yYAe3ACn3Xtav9fRiaBI7xQYistlxPUQT+n2bmYumKnh0vNQbMDYxd07AcL/44qUJgLRQfA7wmUpN4fFURebZb7lMbNzzazdzNrXrl1bZLJFBt9gDs09a1bmDEQ+gxEWOoZT22HQEz3/AXfQ+NFzGL3din7FTX/b/ZsD+nEALF67eMA5UhNBTbxiMnypuV+wAFi6bumAfeL6iaR0dXcxd9FcXtjwguoyEsoZMMxsgZk9E/OYnvAccV/bVH631d3fDXwwfJye6SDuPtvdW9y9pampKeGpRapD6sLb4z2D0jqntRXOO29g0Mh3MMJCx3Ca/85I7iK130F3MPaCPfrN/Ncxo4PzW85nROOIftuOaBzB6Zc+EDtHRseMDj59wKdjzztzwcx+r3916q+w8BLUaI0DztPt3TiuFlMJ5QwY7v5hd39XzOM+4GUz2w0g/P8fMYfoACZHXk8C1oTHfjH8fzNwO3BocW9HpDpVYmjua6+F20Z8hqmsGDgYYZKBCCl8DKeOK2Hupacy4dJ/wKU9cGkPEy79B9+98tRk53jyRBb+6JMZZw+8d8m9fRsvOjWoI7m0m5+cdVnvNhdcAAdPehd+aTd8ayvdv7wqY25D/TKSKbbS+/vAukil93h3/4+0bcYTVHS/J1z0BHAIsAnYyd1fMbPhwB3AAne/Ptd5VekttaSiPY2zVWyPGRM/IOGYMcHeHLylAAASaklEQVQghEWYt91nOOuta9nKdv2Wj+At5swdSWtr9p7buXqYT7pyEi9ufjEIFr+8sd/Q6aNGwfvfDwsXOv0LOJyGQ2/gifvez/Q7p7N642p66Ms9DYVK8GIrvYsNGBOAu4ApwCrgE+6+3sxagPPc/exwu88AXw93m+XuN5vZDsCjwHCgEVgAzHD3DAME9FHAkFqSaYC+sw8+m2s+ck15T17CYULykemCD8FFf9asga2eorPsJZ09MNt5Ytk29v/vg1i8dvGAVYP2N6mgigaMSlHAkFrSezecZuKYiXTM6CjvyQc5YKRyDdku4mZBjiJbDiLpGFaZmw+n5y4iyy/NXBI/KH+TCio2YCQbGUxEClbPF6Co2L4SMaZMyT1GVaYcSLTCft68IGBkGrQwVkM3IxpH9K/LWHQqtvBy2DSZYVOMebskG9RwKNLQICKSTI6e4XG9y9ONGBFc9HONUdXaCt/70QaGjXsRM+/X6xv6glNcsBg1Cobv9SgDe5c7vOf6AcGCX96Ib5yCu8VOQZtu3jxiW28NBQoYIvUsbcrVnMuzyTRjX7g8V4fACRNgzpzgop9kjKrFu15EzxenMG3GLQCcfnrfBTpTcGpsDAJL13OHcf75RmNj3/L9jn2EEdO/3LfxolPh5z8ZMNd4+hS0UXGj5uYKMPVEdRgikkyO+pB8587I1kqqt2XZEx+PbQWVKSeTXimemmnvT5/5Ey2zW/rqkmJaV2U7Tkox84NUg0oPDSIi9SDBQIS55DuybarndrQjX0pvv5WF34nNAcTNAQ4wfnz/19He9R0zOlgzYw3bDdsu9rhRu0/aNmDIkM7NnaxcGT/MSL7DrdQqBQwRyVnclER0vKf00Wbz0W84ko3xlR2ZpnSNO060d31vIMpwXIBhI99in5N/MmAYl7ZH22Ds6th98hlupZYpYIhIyWTLNSTVbziSsfnduq9fH3+cbu9m5kMz+wJRpuPaNjjuXP600+f7BZpU8GHa1zLO2RE1mANNDiY1qxWRZLL1DC+h3qFCFp0KXTuQ3qdi1CjYfntYt27gvqk7/c7Nndx4y+tsu78D3tiZLsJhtUddAUf/WzB6bnodRjhces+7fkpXGK9SQ4Y43jtnR2PDMLZ/5Ie8/sqE2LnFOzd3ss81+7D5rc20PdJWVx0BlcMQkexS9RmbNwfBwb3/o8hhRNJ1zOhg7l7OqN/cDm80EQ0WqSldr746e33J6d96gG0/nx3ZP3xs2RnuuznYqHdyp57g/3C49B56enMmXd1dzHlyDnOemNPbHLf7Xbfx2ud35qFlC2mcsSfTpvfPRcxcMJNNb22qy0ENFTBEJLk86jSSiuvXkKnZ7OjRwd18rvqSh+ccCd0j40/YPZKpj9+O33s7/moz7g34q82sueUH7DhyR4Y3DO+3eVd3F2/1vDXgMCfedSLLNyzvN0Ju5+ZO5v21r41tvU0Dq2a1IhK0hkoaDEp4zYjrHZ5Ps9lMss04mOk4F9x/Ade1X5f74GkarZGOGR3sOnpXTr7rZO5ecne/9dU0qKGa1YpI8TZt6l/MNEjichJbttDb4S7dlCnJelrnarWUvr63UpvgAt/55U78Escv8dj5OqK6vZsvPPAFpl41lXuW3DNgfT3lMhQwRKRiMvVf6O6Or6M49tiBPa1PP2sL1855td+2s2YFw5DESQ1PEpVpvpL0GQczufvZu1m1cRU+YDgS2NqzNef8IbVCAUNEKiZTTiBVJ5FeR/HrXw/MkfjWUXx1Zv9BpVpbg2FIJkzov210eJKUbNPQZpsTvF8aYgJFSj2NgKuAISIDlXIMqiyy9Q6P69ORKUfy2tpxva2RUkVWp58eVJLPndtX0vbKKwP7hmSbhjbbnOBJLPz0wroJFqB+GCISp8RNZTNJXbwzjSmVLtM8GoxdTdsj3+OfX72mXyV6anDA6LnSZZuGNu5iv9sVu/HS68mayp5010ms/+r63BvWCLWSEpGaETvnRtjhbvv3/IIJN2yiY/XA++BSDg4YN4NiNk+f9zQH7HJAaU5eJLWSEpEhI9X/YnTTOtI73HV7Nx0d8c2rSjk4YL7FVKfde1rdDBWiIikRqSmtrfDVlw/ktbRpb7u6u2jc6UW6N0wasE++gwNGh0VP7z+RqU6i8bLG2AryJa8s6Tdqbi0PFaKAISI1J9NFe95euad2zSYVKA7Z7ZDeXtz/Oe0/+cDNH+BnJ/+ME+46ITaIAHR/M36u2NTcHqnBDC8+7OKq6MRXiKKKpMxsvJk9ZGbPhf+Py7Ddb8zsVTP7VdryPczsL+H+PzWzzL1jRKRiaqVIpdgh1tsebeOFDS9wz7NBB7y5i+bytYVfY8WrK2j9WeuAIc+THjOuj0ctKrYOYyaw0N33BhaGr+N8Hzg9Zvl3gR+G+28APltkekSkDKJFKqVW7BzZ6ftDYUOsp/pjePgPggv83EVz6fEeFq9d3G/I83yOGe3jcV37dSx6eVFe77FaFBswphOOGhz+/7G4jdx9IdBvoBozM+BDQKovfcb9RaRy4iYiKpVi58gu5RzbbY+20d0zsFip27sHvE4aOOP6eDjOafeeln8Cq0CxAWMXd+8ECP9/Wx77TgBedfdt4esOYGKmjc3sXDNrN7P2tWvXFpxgEclPOYtUMo0lddFFg7N/Sioobu3ZmnPbaE/wXDK1qFq8dnHvxEy1UNSXkjNgmNkCM3sm5jG9yHPHzSifsVOIu8929xZ3b2lqairy1CKSRLZhM0ohU3PXpM1gi90/JekQIClJA2fHjI7YQQxHNI6g7ZG2shb1lUPOgOHuH3b3d8U87gNeNrPdAML//5HHuV8BdjKzVEutScCafN+AiJRPtmEzSiFTc9ekzWCL3T8l374VqZ7gScUF3jlPzWHOk3PKUtRXLsU2q50PnAFcHv6f+BN0dzez3wMnAXfmu79IPcrW/r8Ssg2bUYr+BLNmFdcMttj9U8o93lNc4O3q7uotU0kF4Wrvo1FsHcblwBFm9hxwRPgaM2sxsx+nNjKzPwB3A9PMrMPMjgpXfRWYYWbLCOo0bioyPSI1rdqKKKJFKtFHqS6wxTaDzXf/StUZxAXeHu+hh76pYNNbT6XS+vRLT1dNPYfGkhKpEqkOXm9ue7OqZmmrJxfcfwE3PH4D5x1yXkXv5jONR7V/0/48c8Ezvdvc8PgN7Lvzvix5ZUlJ0qyxpETqRD118KpG5WwenK8kradSaS2k/0e5KGCIVIFyt0aSgQH59EsfKKrDYDHSW081hJfiBhp6W0+Vs7FBoRQwRKpAtV4g6sWAgPzkiSz40ckl6fCXTxrS6yI6N3cGLaXCuoweerjpyZuY8+Sc2MYGlb6JUMAQqQLZWiNJ8QYE5IXfga079NumkA5/+aYhvUFD26NtbO3u31nwre63BixLqfRNhCq9RaTuTbpyEi9Gh0O/tJu4+2WzYAyqUsvUoCGf2ftSipkjvNhKbw1vLiJ1L/0C23xz/FSv+Xb4SyquQcM1H7mGj+/78QGtpUY0juDsg8+uyj4ZKpISkSFn1qygg19UIR3+cunc3EnzVc396iSidRG1VhSpHIaIDDmpjn0XXRSMOzVlShAsknYYTKrt0TZWblzZ2woqJZXLKHcP81JTDkNEqsJg98JubS1s3oykUi2zgN5WUCnVnIvIRgFDRKpCtQ2LUqz0lllnHHhGWYZXGUwKGCJScdXUC7sU0vt9QDDda62/LwUMEam4ahgWpZRFYpk6Ys5ckGkW69qggCEiFTVYw6Lkmju8lEVimcaKuufZe2K2rh0KGCJSUYMxLEquub9LXSTWMaODNTPWsN2w7fot7/Gemi6WUsAQkYKVohhnMPoi5Jr7O1eRWK7cSZx6HB9MQ4OISMGqZX6JXBoagpxFOjN4cWPfsB0p0eE7UrmT9Fn9ck30NGA4ktCuO+xK51c6i3k7BdN8GCJSEbXUsinb3N+5cgK5cieZpM9WeH7L+TRYAyfse0Khb6PiFDBEpCDV0LIpqWxDgeQqElu1Kv6YmZbHqaXgmo2GBhGRvGVq2XTxYRdX5bSy2YYCaSV7B7opU4ofqDDT4IO1RjkMEclbLVboFjoUSLEDFdbTbIpFBQwzG29mD5nZc+H/4zJs9xsze9XMfpW2/BYze8HMngofBxWTHhEZHLU2ymoxWluDCu6pU4NK8qlTc1d4R9VicM2kqFZSZvY9YL27X25mM4Fx7v7VmO2mAaOAz7n7RyPLbwF+5e559WZRKykRqRWZWksVMxFSoSo9gdJ04PDw+a3Aw8CAgOHuC83s8PTlIiL1rhYHGcyk2DqMXdy9EyD8/20FHGOWmS0ysx+a2chMG5nZuWbWbmbta9euLTS9IiJSoJwBw8wWmNkzMY/pJTj/14B9gPcC44nJnaS4+2x3b3H3lqamphKcWkRE8pGzSMrdP5xpnZm9bGa7uXunme0G/COfk6dyJ8BbZnYz8JV89hcRkcFTbJHUfOCM8PkZQF5NJMIgg5kZ8DHgmSLTIyIiZVJswLgcOMLMngOOCF9jZi1m9uPURmb2B+BuYJqZdZjZUeGqeWb2V+CvwM7At4tMj4iIlElRraTcfR0wLWZ5O3B25PUHM+z/oWLOLyIig0c9vUVEJBEFDBERSaQm58Mws7VAzHBgJbUz8EqZz1EqtZRWqK301lJaobbSW0tphdpKb6a0TnX3gvsl1GTAGAxm1l5MF/rBVEtphdpKby2lFWorvbWUVqit9JYrrSqSEhGRRBQwREQkEQWMzGZXOgF5qKW0Qm2lt5bSCrWV3lpKK9RWesuSVtVhiIhIIsphiIhIIgoYIiKSyJAOGCWYYtbMbJaZ/d3MlpjZv1VrWiPr/8vMXitXOiPnKfaznWdmS8Oh9OeY2fAqTuseZvaXcP+fmtmIcqU1z/SeEW7znJmdEVl+qpn9NZyH5jdmtnMVp3WEmc0Of2N/M7MTy5XWUqQ3sn6+mZV1MNVi0mpmo8zs/vAzXWxmlyc555AOGMBMYKG77w0sDF/H+T5weszyM4HJwD7uvi9wZzkSGSo2rZhZC7BTeZI3QLHpnUcwV8q7ge2JjE1WBsWm9bvAD8P9NwCfLUsq++RMr5mNBy4B3gccClxiZuPMbBhwNfB/3f0AYBFwYTWmNVx9EfAPd38HsB/wSBnTWor0YmYnAGW/KStBWq9w932Ag4H/Y2bH5Dyjuw/ZB7AU2C18vhuwNMu2hxPMPx5d9r/AXjWS1kbg9+G+r1V7etPWfwmYVY1pBYygR+2w8PX7gQcr/dkCpwI3RF7fEC4bDqwFpoZpvx44txrTGj5fDexQzs+zxOkdDfyRILg9U81pTdvuauCcXOcc6jmMYqeY3RP4pAVTxz5gZnuXPIV9ik3rhcB875u0qtxKMX0vYVHU6cBvSpi2dMWkdQLwqrtvC193ABNLnL50SdI7keBim9IBTHT3rcD5BFMKrCG4sN1UjWk1s1RuuM3MnjCzu81slzKmFYpIb/i8DfgBsKWciQwVm1YAws/5OIJcSlZFDW9eC8xsAbBrzKqLSnD4kcCb7t4SZkPnALFDuSdRrrSa2e7AJwjujkumzJ9tyrXAo+7+h2IOUsa0WsyyotuqlyC9sekKA/D5BMUQy4H/IpgqueC5aMqVVoLr0yTgT+4+w8xmAFeQocg1qTJ+tgcRlDh8ycyaC0xe/xOV77NNHX8YcAfwI3dfnutgdR8wvIxTzBJE63vD5z8Hbi4wmUBZ03owsBewzMwARpnZMnffq0rTmzrGJUAT8LkikgmUNa2vADuZ2bAwlzGJ4M69KCVIbwf9bxAmAQ8DB4XHfz481l1krrOpdFrXEdyp/zxcfjclqB8qY3rfDxxiZisIrq1vM7OH3f1wClTGtKbMBp5z96uSpGeoF0kVNcUs8AsgNQnUYcDfS5SuOAWn1d3vd/dd3b3Z3ZuBLcUGiwSKnb73bOAogvLWnhKnLV0xn60T1A2dVMj+BUqS3geBI8OK7nHAkeGyF4H9zCw1YukRwJJqTGv42f6SvgveNODZMqYVikvvde6+e/gb+wDw92KCRTnTCmBm3wbGAl9MfMZyVspU+4Og/Hkh8Fz4//hweQvw48h2fyCoKHyDIGIfFS7fCbifoDz4/wEHVmta0441GJXexX6224DngafCxzerOK1vJ2gAsYzgLnhklXy2nwnTtAw4K7L8PIIgsYjggjyhitM6FXg0TOtCYEo1f7aR9c2Uv9K74LQS5DQ8/B6kfmNn5zqnhgYREZFEhnqRlIiIJKSAISIiiShgiIhIIgoYIiKSiAKGiIgkooAhIiKJKGCIiEgi/x8BkLJ71N6v8wAAAABJRU5ErkJggg==\n",
      "text/plain": [
       "<Figure size 432x288 with 1 Axes>"
      ]
     },
     "metadata": {},
     "output_type": "display_data"
    }
   ],
   "source": [
    "#2. Two-Dimensional PCA \n",
    "\n",
    "#Singular Value Decomposition\n",
    "u_centered,s_centered,v_centered = np.linalg.svd(samples_centered,True)\n",
    "features_centered = u_centered[:,0:2]\n",
    "pca_centered = features_centered.T\n",
    "\n",
    "#Labels Scatter Plot\n",
    "plt.scatter(pca_centered.T[np.where(labels==0),0],pca_centered.T[np.where(labels==0),1],c='r',marker='s')\n",
    "plt.scatter(pca_centered.T[np.where(labels==1),0],pca_centered.T[np.where(labels==1),1],c='g',marker='^')\n",
    "plt.scatter(pca_centered.T[np.where(labels==2),0],pca_centered.T[np.where(labels==2),1],c='b',marker='o')\n",
    "\n",
    "plt.title('2D Features of Centralized Principal Components')"
   ]
  },
  {
   "cell_type": "code",
   "execution_count": 5,
   "metadata": {},
   "outputs": [],
   "source": [
    "#3. Normalized Data\n",
    "maximum = np.max(samples_centered)\n",
    "minimum = np.min(samples_centered)\n",
    "norm = np.subtract(samples_centered,minimum)\n",
    "diff = np.subtract(maximum,minimum)\n",
    "samples_normalized = np.divide(norm,diff)"
   ]
  },
  {
   "cell_type": "code",
   "execution_count": 6,
   "metadata": {},
   "outputs": [
    {
     "data": {
      "text/plain": [
       "Text(0.5,1,'2D Features of Normalized Principal Components')"
      ]
     },
     "execution_count": 6,
     "metadata": {},
     "output_type": "execute_result"
    },
    {
     "data": {
      "image/png": "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\n",
      "text/plain": [
       "<Figure size 432x288 with 1 Axes>"
      ]
     },
     "metadata": {},
     "output_type": "display_data"
    }
   ],
   "source": [
    "#4. Two Dimensional PCA\n",
    "\n",
    "#Singular Value Decomposition\n",
    "u_normalized,s_normalized,v_normalized = np.linalg.svd(samples_normalized,True)\n",
    "features_normalized = u_normalized[:,0:2]\n",
    "pca_normalized = features_normalized.T\n",
    "\n",
    "plt.scatter(pca_normalized.T[np.where(labels==0),0],pca_normalized.T[np.where(labels==0),1],c='r',marker='s')\n",
    "plt.scatter(pca_normalized.T[np.where(labels==1),0],pca_normalized.T[np.where(labels==1),1],c='g',marker='^')\n",
    "plt.scatter(pca_normalized.T[np.where(labels==2),0],pca_normalized.T[np.where(labels==2),1],c='b',marker='o')\n",
    "plt.title('2D Features of Normalized Principal Components')"
   ]
  },
  {
   "cell_type": "markdown",
   "metadata": {},
   "source": [
    "5. The centered and normalized data seems to have better PCA performance. "
   ]
  },
  {
   "cell_type": "markdown",
   "metadata": {},
   "source": [
    " ## Naive Bayes Classification"
   ]
  },
  {
   "cell_type": "code",
   "execution_count": 7,
   "metadata": {},
   "outputs": [
    {
     "name": "stdout",
     "output_type": "stream",
     "text": [
      "Counter({1: 0.398876404494382, 0: 0.33146067415730335, 2: 0.2696629213483146})\n"
     ]
    }
   ],
   "source": [
    "#function to calculate prior probability of data points\n",
    "def PriorProbability(labels):\n",
    "    prior = collections.Counter(labels)\n",
    "    for key in prior.keys():\n",
    "        prior[key] = prior[key]/len(labels)\n",
    "    return prior\n",
    "\n",
    "print(PriorProbability(labels))"
   ]
  },
  {
   "cell_type": "code",
   "execution_count": 8,
   "metadata": {},
   "outputs": [],
   "source": [
    "def naiveBayes(labels,training):\n",
    "    categories     = np.unique(labels)\n",
    "    probabilities = {}\n",
    "    results = {}\n",
    "    \n",
    "    for ctg in categories:\n",
    "        probabilities[ctg] = collections.defaultdict(list)\n",
    "\n",
    "    labelProbabilities = PriorProbability(labels)\n",
    "\n",
    "    for ctg in categories:\n",
    "        label_probability = labelProbabilities[ctg]\n",
    "        for i in range(0,len(training)):\n",
    "            relative_values = probabilities[ctg][i]\n",
    "            if training[i] in relative_values:\n",
    "                    label_probability = label_probability * relative_values[training[i]]\n",
    "            results[ctg] = label_probability\n",
    "    return(results)\n",
    "  "
   ]
  },
  {
   "cell_type": "code",
   "execution_count": 9,
   "metadata": {},
   "outputs": [],
   "source": [
    "#Split data into k folds\n",
    "def k_fold_CV(labels,samples,folds):\n",
    "    split = list()\n",
    "    samples_split = list(samples)\n",
    "    samples_split_size = len(samples_split)\n",
    "    foldLabels = list()\n"
    "    fold_size = int(len(samples)/folds)\n",
    "    for i in range(folds):\n",
    "        fold = list()\n",
    "        while(len(fold) < fold_size):\n",
    "            index = randrange(samples_split_size)\n",
    "            fold.append(samples_split.pop(index))\n",
    "            foldLabels(labels[index])\n"
    "        split.append(fold)\n",
    
    "        for j in range(folds):\n"
    "           result = naiveBayes(foldLabels,split[j])\n"
    "        return result"
   ]
  },
  {
   "cell_type": "code",
   "execution_count": 11,
   "metadata": {},
   "outputs": [
    {
     "name": "stdout",
     "output_type": "stream",
     "text": [
      "Centered Data Mean/Standard Deviation:\n",
      "-0.04752139639137867\n",
      "0.0587875090349549\n",
      "Normalized Data Mean/Standard Deviation:\n",
      "-0.04602542729419497\n",
      "0.05623269554817346\n"
     ]
    }
   ],
   "source": [
    "#k fold on centered data only\n",
    "training1 = k_fold_CV(labels,pca_centered.T,5)\n",
    "mean1 = np.mean(training1)\n",
    "std1 = np.std(training1)\n",
    "print(\"Centered Data Mean/Standard Deviation:\")\n",
    "print(mean1)\n",
    "print(std1)\n",
    "\n",
    "#k fold on standardized data\n",
    "training2 = k_fold_CV(labels,pca_normalized.T,5)\n",
    "mean2 = np.mean(training2)\n",
    "std2 = np.std(training2)\n",
    "print(\"Normalized Data Mean/Standard Deviation:\")\n",
    "print(mean2)\n",
    "print(std2)"
   ]
  },
  {
   "cell_type": "code",
   "execution_count": 12,
   "metadata": {},
   "outputs": [
    {
     "name": "stdout",
     "output_type": "stream",
     "text": [
      "(SKlearn Normalized Data Mean/Standard Deviation:\n",
      "0.9438202247191011\n",
      "0.7983065019474881\n"
     ]
    }
   ],
   "source": [
    "from sklearn.naive_bayes import GaussianNB\n",
    "clf = GaussianNB()\n",
    "clf.fit(pca_normalized.T,labels)\n",
    "training3 = clf.predict(pca_normalized.T)\n",
    "mean3 = np.mean(training3)\n",
    "std3 = np.std(training3)\n",
    "print(\"(SKlearn Normalized Data Mean/Standard Deviation:\")\n",
    "print(mean3)\n",
    "print(std3)"
   ]
  },
  {
   "cell_type": "markdown",
   "metadata": {},
   "source": [
    "Out of the three cases, case 3 seems to have the most accurate mean/standard deviation. "
   ]
  }
 ],
 "metadata": {
  "kernelspec": {
   "display_name": "Python 3",
   "language": "python",
   "name": "python3"
  },
  "language_info": {
   "codemirror_mode": {
    "name": "ipython",
    "version": 3
   },
   "file_extension": ".py",
   "mimetype": "text/x-python",
   "name": "python",
   "nbconvert_exporter": "python",
   "pygments_lexer": "ipython3",
   "version": "3.6.5"
  }
 },
 "nbformat": 4,
 "nbformat_minor": 2
}
